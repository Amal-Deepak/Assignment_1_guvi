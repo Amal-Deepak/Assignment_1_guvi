{
  "nbformat": 4,
  "nbformat_minor": 0,
  "metadata": {
    "colab": {
      "name": "Assignement_1.ipynb",
      "provenance": [],
      "collapsed_sections": []
    },
    "kernelspec": {
      "name": "python3",
      "display_name": "Python 3"
    },
    "language_info": {
      "name": "python"
    }
  },
  "cells": [
    {
      "cell_type": "code",
      "execution_count": 1,
      "metadata": {
        "id": "kq3FdOGbXSv1"
      },
      "outputs": [],
      "source": [
        "#Registering new user in the file.\n",
        "def register():\n",
        "  s = input(\"Enter email ID: \")\n",
        "  c = 0\n",
        "  t = len(s)\n",
        "  a = s.find('@')\n",
        "  b = s.find('.')\n",
        "  k = s[a:t]\n",
        "  x = 0\n",
        "  y = 0\n",
        "  \n",
        "  if '@' and '.' in k:\n",
        "    c=c+1\n",
        "    \n",
        "  for i in range(a+1,b):\n",
        "    x=x+1\n",
        "    \n",
        "  if x >= 4:\n",
        "    c=c+1\n",
        "  \n",
        "  for i in range(0,a):\n",
        "    if(s[i] =='.'):\n",
        "      c=c+1\n",
        "      break\n",
        "  \n",
        "  for i in range(0,a):\n",
        "    if(s[i].isdigit()):\n",
        "      c=c+1\n",
        "      break\n",
        "  \n",
        "  if s[0].isalpha():\n",
        "    c=c+1\n",
        "  \n",
        "  if c==3 or c==4:\n",
        "    print(\"Email ID accepted!\")\n",
        "  else:\n",
        "    print(\"Email ID invalid!\")\n",
        "  \n",
        "  p = input(\"Enter Password: \")\n",
        "  r = 0\n",
        "  special_characters = \"!@#$%^&*()-+?_=,<>/\"\n",
        "  \n",
        "  if len(p)>=5 and len(p)<=16:\n",
        "    r=r+1\n",
        "  \n",
        "  if any(i in special_characters for i in p):\n",
        "    r=r+1\n",
        "  \n",
        "  for i in p:\n",
        "    if i.isdigit():\n",
        "      r=r+1\n",
        "      break\n",
        "  \n",
        "  for i in p:\n",
        "    if i.isupper():\n",
        "      r=r+1\n",
        "      break\n",
        "  \n",
        "  for i in p:\n",
        "    if i.islower():\n",
        "      r=r+1\n",
        "      break\n",
        "  if r==5:\n",
        "    print(\"Password Accepted!\")\n",
        "  else:\n",
        "    print(\"Password NOT ACCEPTED!!\")\n",
        "  \n",
        "  if ((c==3) or (c==4)) and r==5:\n",
        "    print(\"Successfully Registered!!\")\n",
        "  \n",
        "\n",
        "  file_path = 'registrations.txt'\n",
        "  with open(file_path, \"a\") as f:\n",
        "    if ((c==3) or (c==4)) and r==5:\n",
        "      f.write(s)\n",
        "      f.write(\" \")\n",
        "      f.write(p)\n",
        "      f.write('\\n')"
      ]
    },
    {
      "cell_type": "code",
      "source": [
        "#When user chooses Forgot Password.\n",
        "def forgot(g):\n",
        "  with open(\"registrations.txt\") as f:\n",
        "    for line in f:\n",
        "      h = line.split(\" \")\n",
        "      for i in h:\n",
        "        if i == g:\n",
        "          print(\"Password for\",g, \"is:\",h[1])"
      ],
      "metadata": {
        "id": "4PoC9RH9Ql_s"
      },
      "execution_count": 2,
      "outputs": []
    },
    {
      "cell_type": "code",
      "source": [
        "#User chooses to LOGIN or REGISTER.\n",
        "# 1 for Login \n",
        "# 2 for Register\n",
        "enter = int(input(\"Login or Register?\\n 1 for Login\\n 2 for Register\\n\"))\n",
        "\n",
        "#When user chooses to LOGIN.\n",
        "if enter == 1:\n",
        "  email = input(\"Email ID:\")\n",
        "  password = input(\"Password:\")\n",
        "  flag = 0\n",
        "  with open('registrations.txt') as f:\n",
        "    for line in f:\n",
        "      u = line.split(\" \")\n",
        "      u[1] = u[1].replace('\\n','')\n",
        "      if email == u[0]:\n",
        "        if password in u:\n",
        "          print(\"Successfully logged in!!\")\n",
        "          flag=1\n",
        "          break\n",
        "        elif password not in u:\n",
        "          print(\"Incorrect Password!!\")\n",
        "          f = input(\"Forgot Password?\")\n",
        "          if f == 'y' or f =='Y':\n",
        "            forgot(email)\n",
        "          else:\n",
        "            flag=1\n",
        "            break\n",
        "          flag = 1\n",
        "\n",
        "      elif email != u[0]:\n",
        "        continue\n",
        "    \n",
        "    if flag==0:\n",
        "      print(\"Email ID doesn't exist, please register!!\")\n",
        "\n",
        "#When user chooses to REGISTER.\n",
        "elif enter == 2:\n",
        "  register()"
      ],
      "metadata": {
        "colab": {
          "base_uri": "https://localhost:8080/"
        },
        "id": "ZqWY_STUNErL",
        "outputId": "71ec37ae-3077-4d13-fc20-c5997f311645"
      },
      "execution_count": 9,
      "outputs": [
        {
          "output_type": "stream",
          "name": "stdout",
          "text": [
            "Login or Register?\n",
            " 1 for Login\n",
            " 2 for Register\n",
            "1\n",
            "Email ID:kampelly.amal@gmail.com\n",
            "Password:royal@123\n",
            "Incorrect Password!!\n",
            "Forgot Password?y\n",
            "Password for kampelly.amal@gmail.com is: Royal@123\n",
            "\n"
          ]
        }
      ]
    }
  ]
}